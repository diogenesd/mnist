{
 "cells": [
  {
   "cell_type": "code",
   "execution_count": 1,
   "metadata": {
    "collapsed": true
   },
   "outputs": [],
   "source": [
    "# encoding: UTF-8\n",
    "# Copyright Diogenes Ademir Domingos 2017\n",
    "# Authored by Diogenes Ademir Domingos (k.fus@hotamil.com)\n",
    "#\n",
    "# Licensed under the Apache License, Version 2.0 (the \"License\");\n",
    "# you may not use this file except in compliance with the License.\n",
    "# You may obtain a copy of the License at\n",
    "#\n",
    "# http://www.apache.org/licenses/LICENSE-2.0\n",
    "#\n",
    "# Unless required by applicable law or agreed to in writing, software\n",
    "# distributed under the License is distributed on an \"AS IS\" BASIS,\n",
    "# WITHOUT WARRANTIES OR CONDITIONS OF ANY KIND, either express or implied.\n",
    "# See the License for the specific language governing permissions and\n",
    "# limitations under the License."
   ]
  },
  {
   "cell_type": "code",
   "execution_count": 94,
   "metadata": {},
   "outputs": [
    {
     "name": "stdout",
     "output_type": "stream",
     "text": [
      "The autoreload extension is already loaded. To reload it, use:\n",
      "  %reload_ext autoreload\n"
     ]
    }
   ],
   "source": [
    "# Configunrando o notebook.\n",
    "import os\n",
    "import itertools\n",
    "import random\n",
    "import numpy as np\n",
    "import matplotlib.pyplot as plt\n",
    "\n",
    "# Configunrando o framework Keras.\n",
    "\n",
    "# Importando a base de dados MNIST (http://yann.lecun.com/exdb/mnist/)\n",
    "from keras.datasets import mnist\n",
    "\n",
    "# Importando o modelo do Keras (https://keras.io/getting-started/sequential-model-guide/)\n",
    "from keras.models import Sequential\n",
    "\n",
    "# Importando o tipo de camada\n",
    "from keras.layers import Dense\n",
    "\n",
    "# Importando modulo de Dropout da rede, para aplicar mutações.\n",
    "from keras.layers import Dropout\n",
    "\n",
    "# Importando modulo de achatamento dos vetores.\n",
    "# Aprimora a entrada. Não afeta o tamanho do lote.\n",
    "# (https://keras.io/layers/core/#flatten)\n",
    "from keras.layers import Flatten\n",
    "\n",
    "# Importanto modulo de convolução (https://keras.io/layers/convolutional/)\n",
    "from keras.layers.convolutional import Conv2D\n",
    "\n",
    "# Importando modulo de subamostragem (https://keras.io/layers/pooling/)\n",
    "from keras.layers.convolutional import MaxPooling2D\n",
    "\n",
    "# Importando Lib de utilidades (https://keras.io/utils/)\n",
    "from keras.utils import np_utils\n",
    "\n",
    "# Importante modulo de trabalho em backend (Th ou Tf) (https://keras.io/backend/)\n",
    "from keras import backend as K\n",
    "\n",
    "# modulo para trabalhar reprocessar as imagens\n",
    "from keras.preprocessing import image\n",
    "\n",
    "# modulo de utilizades para trabalhar reprocessar as imagens\n",
    "from keras.utils.data_utils import get_file\n",
    "\n",
    "# modulo de callback para parar o treinamento na melhor opção\n",
    "from keras.callbacks import EarlyStopping\n",
    "\n",
    "# Modulo para salvar o modelo em arquivo\n",
    "from keras.models import model_from_json\n",
    "\n",
    "# Modolo para carregar um modelo pronto\n",
    "from keras.models import load_model\n",
    "\n",
    "# Modulo Scikit-Learn para montar a matriz de confusão\n",
    "from sklearn.metrics import classification_report, confusion_matrix, precision_score, recall_score, f1_score, cohen_kappa_score\n",
    "\n",
    "\n",
    "#import keras_mnist_vis \n",
    "#K.set_image_dim_ordering('th')\n",
    "\n",
    "# permitindo mais de um print por saída\n",
    "from __future__ import print_function\n",
    "\n",
    "# Configurando o plot para ser inline ao inves de outra janela.\n",
    "%matplotlib inline\n",
    "plt.rcParams['figure.figsize'] = (10.0, 8.0) # set default size of plots\n",
    "plt.rcParams['image.interpolation'] = 'nearest'\n",
    "plt.rcParams['image.cmap'] = 'gray'\n",
    "%load_ext autoreload\n",
    "%autoreload 2"
   ]
  },
  {
   "cell_type": "code",
   "execution_count": 3,
   "metadata": {},
   "outputs": [
    {
     "name": "stdout",
     "output_type": "stream",
     "text": [
      "Dados de treino shape:  (60000, 28, 28)\n",
      "Rotulos de treino shape:  (60000,)\n",
      "Dados de teste shape:  (10000, 28, 28)\n",
      "Rotulos de teste:  (10000,)\n"
     ]
    }
   ],
   "source": [
    "# Load dos dados\n",
    "# Criando uma matriz numpy de dados de treino.\n",
    "# Criando uma matriz numpy de dados de teste.\n",
    "# O conjunto de treinamento possui 60.000 exemplos\n",
    "# O conjunto de testes de 10.000 exemplos\n",
    "\n",
    "(X_train, y_train), (X_test, y_test) = mnist.load_data()\n",
    "print('Dados de treino shape: ', X_train.shape)\n",
    "print('Rotulos de treino shape: ', y_train.shape)\n",
    "print('Dados de teste shape: ', X_test.shape)\n",
    "print('Rotulos de teste: ', y_test.shape)"
   ]
  },
  {
   "cell_type": "code",
   "execution_count": 4,
   "metadata": {},
   "outputs": [
    {
     "name": "stdout",
     "output_type": "stream",
     "text": [
      "Dados de teste backup:  (10000, 28, 28)\n"
     ]
    }
   ],
   "source": [
    "# backup para predição\n",
    "\n",
    "X_test_orig = X_test\n",
    "print('Dados de teste backup: ', X_test_orig.shape)"
   ]
  },
  {
   "cell_type": "raw",
   "metadata": {
    "collapsed": true
   },
   "source": [
    "Amostragem\n",
    "Como o conjunto é muito grande para processar na maquina inloco, reduzi criei um subconjunto para experimento.\n",
    "Depois de encontrar o melhot modelo, fiz o treinamento com a base integral.\n",
    "\n",
    "amostra_treino = 5000\n",
    "mascara = list(range(amostra_treino))\n",
    "X_train = X_train[mascara]\n",
    "y_train = y_train[mascara]\n",
    "\n",
    "amostra_teste = 500\n",
    "mask = list(range(amostra_teste))\n",
    "X_test = X_test[mascara]\n",
    "y_test = y_test[mascara]"
   ]
  },
  {
   "cell_type": "code",
   "execution_count": 5,
   "metadata": {},
   "outputs": [
    {
     "data": {
      "image/png": "[encoded data removed]",
      "text/plain": [
       "<matplotlib.figure.Figure at 0x27a468beb38>"
      ]
     },
     "metadata": {},
     "output_type": "display_data"
    }
   ],
   "source": [
    "# Visualizando amostra dos dados\n",
    "# Vetor de classes para indice\n",
    "classes = ['0','1', '2', '3', '4', '5', '6', '7', '8', '9']\n",
    "quantidade_classes = len(classes)\n",
    "amostras_por_classe = 5\n",
    "for y, cls in enumerate(classes):\n",
    "    idxs = np.flatnonzero(y_train == y)\n",
    "    idxs = np.random.choice(idxs, amostras_por_classe, replace=False)\n",
    "    for i, idx in enumerate(idxs):\n",
    "        plt_idx = i * quantidade_classes + y + 1\n",
    "        plt.subplot(amostras_por_classe, quantidade_classes, plt_idx)\n",
    "        plt.imshow(X_train[idx].astype('uint8'))\n",
    "        plt.axis('off')\n",
    "        if i == 0:\n",
    "            plt.title(cls)\n",
    "plt.show()"
   ]
  },
  {
   "cell_type": "code",
   "execution_count": 6,
   "metadata": {},
   "outputs": [
    {
     "name": "stdout",
     "output_type": "stream",
     "text": [
      "(28, 28, 1)\n"
     ]
    }
   ],
   "source": [
    "# Configuração do shape da imagem\n",
    "# Este shape varia de acordo com o framework de backend\n",
    "# tenshoflow = (quantidade de canais, largura, altura)\n",
    "# theano = (largura, altura, quantidade de canais)\n",
    "\n",
    "img_rows, img_cols = 28, 28\n",
    "if K.image_data_format() == 'channels_first':\n",
    "    shape = (1, img_rows, img_cols)\n",
    "else:  # channel_last\n",
    "    shape = (img_rows, img_cols, 1)\n",
    "\n",
    "print(shape)"
   ]
  },
  {
   "cell_type": "code",
   "execution_count": 7,
   "metadata": {
    "collapsed": true
   },
   "outputs": [],
   "source": [
    "# Alterando os canais de cor para ter apenas um canal\n",
    "X_train = X_train.reshape((X_train.shape[0],) + shape).astype('float32')\n",
    "X_test = X_test.reshape((X_test.shape[0],) + shape).astype('float32')"
   ]
  },
  {
   "cell_type": "code",
   "execution_count": 8,
   "metadata": {
    "collapsed": true
   },
   "outputs": [],
   "source": [
    "# Binarizando pixels\n",
    "X_train = X_train / 255\n",
    "X_test = X_test / 255"
   ]
  },
  {
   "cell_type": "code",
   "execution_count": 9,
   "metadata": {},
   "outputs": [
    {
     "name": "stdout",
     "output_type": "stream",
     "text": [
      "Dados de treino shape:  (60000, 28, 28, 1)\n",
      "Rotulos de treino shape:  (60000,)\n",
      "Dados de teste shape:  (10000, 28, 28, 1)\n",
      "Rotulos de teste:  (10000,)\n"
     ]
    }
   ],
   "source": [
    "# Visualizando dimensão dos dados.\n",
    "# (Quantidade, largura, altura)\n",
    "print('Dados de treino shape: ', X_train.shape)\n",
    "print('Rotulos de treino shape: ', y_train.shape)\n",
    "print('Dados de teste shape: ', X_test.shape)\n",
    "print('Rotulos de teste: ', y_test.shape)"
   ]
  },
  {
   "cell_type": "raw",
   "metadata": {},
   "source": [
    "# Visualizar a matriz de pixels da imagem.\n",
    "from IPython.display import display\n",
    "import pandas as pd\n",
    "\n",
    "print(\"Formato do dataset: {}\".format(X_train.shape))\n",
    "print(\"Labels: {}\".format(y_train))\n",
    "print(\"Labels shape: {}\".format(y_train.shape))\n",
    "\n",
    "# Seleciona uma imagem aleatoria\n",
    "idx_img_aleatoria = random.randint(0, len(X_train[0]))\n",
    "img_aleatoria = X_train[idx_img_aleatoria]\n",
    "print(\"Formato da imagem: {}\".format(img_aleatoria.shape))\n",
    "\n",
    "# Visualizar a imagem aleatoria\n",
    "plt.figure(figsize=(6,6))\n",
    "plt.imshow(img_aleatoria.reshape(28,28), cmap='hot')\n",
    "plt.axis('off')\n",
    "\n",
    "# Imprime os pixels da imagem como tabela\n",
    "display(pd.DataFrame(img_aleatoria.reshape(28,28)))"
   ]
  },
  {
   "cell_type": "code",
   "execution_count": 10,
   "metadata": {},
   "outputs": [
    {
     "name": "stdout",
     "output_type": "stream",
     "text": [
      "Quantidade de neurônios (camada entrada):  784\n"
     ]
    }
   ],
   "source": [
    "# Definindo a qunatidade de neurõnios por camada da RNA\n",
    "\n",
    "# quantidade de pixels na camada de entrada de dados\n",
    "# um neuronio para cada pixel\n",
    "if K.image_data_format() == 'channels_first':\n",
    "    num_pixels = X_train.shape[2] * X_train.shape[3]\n",
    "else:\n",
    "    num_pixels = X_train.shape[1] * X_train.shape[2]\n",
    "    \n",
    "print(\"Quantidade de neurônios (camada entrada): \",num_pixels)"
   ]
  },
  {
   "cell_type": "code",
   "execution_count": 11,
   "metadata": {
    "collapsed": true
   },
   "outputs": [],
   "source": [
    "# criando a classificação\n",
    "y_train = np_utils.to_categorical(y_train)\n",
    "y_test = np_utils.to_categorical(y_test)"
   ]
  },
  {
   "cell_type": "code",
   "execution_count": 12,
   "metadata": {},
   "outputs": [
    {
     "name": "stdout",
     "output_type": "stream",
     "text": [
      "Classes encontradas shape:  (10000, 10)\n"
     ]
    }
   ],
   "source": [
    "# verificando a quantidade de classes encontradas\n",
    "num_classes = y_test.shape[1]\n",
    "print('Classes encontradas shape: ',y_test.shape)"
   ]
  },
  {
   "cell_type": "code",
   "execution_count": 13,
   "metadata": {
    "collapsed": true
   },
   "outputs": [],
   "source": [
    "# Criando arquitetura da rede DNN\n",
    "def deep_cnn_model(num_pixels, num_classes, shape, activation='relu'):\n",
    "    \n",
    "    # inicialização de hyperparamentros\n",
    "    # Quantidade de núcleos (Campos receptivos locais)\n",
    "\tnucleos = 32\n",
    "    # Dimensão dos núcleos\n",
    "\tnucleos_dim_1 = 3\n",
    "    # Dimensão dos núcleos para maxpooling\n",
    "\tnucleos_dim_2 = 2\n",
    "    # Quantida de de neuônios para camada totalmente conectada\n",
    "\tneuronios_camada_densa = 128\n",
    "    \n",
    "\tmodel = Sequential() # tipo keras senquencial (https://keras.io/getting-started/sequential-model-guide/)\n",
    "  \n",
    "    # [Primeira camada]\n",
    "    # Adicionando uma camada de convolução (Convolution2D - com esparsividade) para entrada de dados. \n",
    "    # Camada ConvNet terá 32 núcleos (campos receptivos de 3 x 3 pixels).\n",
    "    # Arranjo espacial cmo apenas 1 canal de cor e imagem com dimesão de 28 x 28\n",
    "    # Padding = same, o tamanho da saída será igual ao tamanho da entrada: input=(28,28) -> output=(28,28)\n",
    "    # Função de ativação do neurônio será Relu (https://en.wikipedia.org/wiki/Rectifier_(neural_networks))  \n",
    "    # Por default a rede CONV2D já utiliza bias=True e os inicializa com 0\n",
    "    # Por default o tamanho do passo é 1 pixel, stride=(1,1)\n",
    "\tmodel.add(Conv2D(nucleos, (nucleos_dim_1, nucleos_dim_1), padding='same', input_shape=shape, activation= activation))\n",
    "    \n",
    "    #[Segunda Camada]\n",
    "    # Adicionando uma camada de convolução (Convolution2D - com esparsividade).\n",
    "    # Camada ConvNet terá 64 núcleos (campos receptivos de 3 x 3 pixels).\n",
    "    # Função de ativação do neurônio será Relu (https://en.wikipedia.org/wiki/Rectifier_(neural_networks)) \n",
    "\tmodel.add(Conv2D(nucleos * 2, (nucleos_dim_1, nucleos_dim_1), activation= activation))\n",
    "    \n",
    "    # [Terceira Camada]\n",
    "    # Adicionando uma camada de subamostragem (MaxPooling2D).\n",
    "    # Imagens redimensionadas para 2 × 2 pixels.\n",
    "\tmodel.add(MaxPooling2D(pool_size=(nucleos_dim_2, nucleos_dim_2)))\n",
    "       \n",
    "    # [Quarta Camada]\n",
    "    # O dropout atribui, aleatoriamente à entrada de uma fração unidades, valor 0\n",
    "    # em cada época de treinamento. Ajuda a evitar a overfitting\n",
    "    # parâmentro (0 > x < 1) é a taxa % de queda\n",
    "\tmodel.add(Dropout(0.25))\n",
    "    \n",
    "    # [Quinta camada]\n",
    "    # Achata o vetor\n",
    "    # Aprimora a entrada, tranforma uma imagem de input=(13,13) e com 64 núcleos, em um vetor de 10.816 posições (28*28*64)\n",
    "    # Não afeta o tamanho do lote.\n",
    "\tmodel.add(Flatten())\n",
    "    \n",
    "    #[Sexta Camada]\n",
    "    # Adicionando camada densa (totalmente conectada), destinada a classificação.\n",
    "    # Possui 128 neurônios de entrada.\n",
    "    # Função de ativação do neurônio será Relu (https://en.wikipedia.org/wiki/Rectifier_(neural_networks))\n",
    "\tmodel.add(Dense(neuronios_camada_densa, activation= activation))\n",
    "    \n",
    "    #[Sétima camada]\n",
    "    # O dropout atribui, aleatoriamente à entrada de uma fração unidades, valor 0\n",
    "    # em cada época de treinamento. Ajuda a evitar a overfitting\n",
    "    # parâmentro (0 > x < 1) é a taxa % de queda\n",
    "\tmodel.add(Dropout(0.50))\n",
    "        \n",
    "    #[Oitava Camada]\n",
    "    # Adicionando uma camada densa (totalmente conectada) para saída de dados, \n",
    "    # Função de ativação do neurônio será Softmax (https://en.wikipedia.org/wiki/Softmax_function)\n",
    "    # Nome da camada de saída é predição (Opcional)\n",
    "\tmodel.add(Dense(num_classes, activation='softmax', name='preds'))\n",
    "    \n",
    "    # Função para otimização estocástica, requer apenas gradientes de primeira ordem com pouco requisito de memória.\n",
    "    # Referência: (KINGMA, Diederik; BA, Jimmy. Adam: A method for stochastic optimization. arXiv preprint arXiv:1412.6980, 2014.)\n",
    "    # lr: taxa de aprendizado\n",
    "    # decay: tamanho do passo da caída do gradiente\n",
    "\t# adam = keras.optimizers.Adam(lr=0.01, decay=1e-6)\n",
    "\t#adadelta = keras.optimizers.Adadelta()\n",
    "        \n",
    "    # Copilando o modelo\n",
    "    # Função de apredizado será cross-entropy (https://en.wikipedia.org/wiki/Cross_entropy)\n",
    "    # métrica de reconhecimento será precisão.\n",
    "    # utilizão adam padrão, sem alterar lr.\n",
    "\t#model.compile(loss='categorical_crossentropy', optimizer='adam', metrics=['accuracy'])\n",
    "\tmodel.compile(loss='categorical_crossentropy', optimizer='adadelta', metrics=['accuracy'])\n",
    "    \n",
    "    # retorna o modelo compilado\n",
    "\treturn model"
   ]
  },
  {
   "cell_type": "code",
   "execution_count": 14,
   "metadata": {
    "collapsed": true
   },
   "outputs": [],
   "source": [
    "# instanciando o modelo RNA\n",
    "model = deep_cnn_model(num_pixels, num_classes, shape)"
   ]
  },
  {
   "cell_type": "code",
   "execution_count": 15,
   "metadata": {},
   "outputs": [
    {
     "name": "stdout",
     "output_type": "stream",
     "text": [
      "_________________________________________________________________\n",
      "Layer (type)                 Output Shape              Param #   \n",
      "=================================================================\n",
      "conv2d_1 (Conv2D)            (None, 28, 28, 32)        320       \n",
      "_________________________________________________________________\n",
      "conv2d_2 (Conv2D)            (None, 26, 26, 64)        18496     \n",
      "_________________________________________________________________\n",
      "max_pooling2d_1 (MaxPooling2 (None, 13, 13, 64)        0         \n",
      "_________________________________________________________________\n",
      "dropout_1 (Dropout)          (None, 13, 13, 64)        0         \n",
      "_________________________________________________________________\n",
      "flatten_1 (Flatten)          (None, 10816)             0         \n",
      "_________________________________________________________________\n",
      "dense_1 (Dense)              (None, 128)               1384576   \n",
      "_________________________________________________________________\n",
      "dropout_2 (Dropout)          (None, 128)               0         \n",
      "_________________________________________________________________\n",
      "preds (Dense)                (None, 10)                1290      \n",
      "=================================================================\n",
      "Total params: 1,404,682\n",
      "Trainable params: 1,404,682\n",
      "Non-trainable params: 0\n",
      "_________________________________________________________________\n"
     ]
    }
   ],
   "source": [
    "# Descrevendo a representação do modelo DNN\n",
    "# Arranjo dimensional: \n",
    "# 1 camada de entrada;\n",
    "# 2 camadas ocultas;\n",
    "# 1 camada de saída (preds);\n",
    "# quantidade de parâmentros da rede (pesos).\n",
    "model.summary()"
   ]
  },
  {
   "cell_type": "code",
   "execution_count": null,
   "metadata": {
    "collapsed": true
   },
   "outputs": [],
   "source": [
    "# Verificando o arranjo espacial do modelo\n",
    "for i, layer in enumerate(model.layers):\n",
    "    print (\"Camada\", i, \"\\t\", layer.name.strip(),\"\\t\\t\", layer.input_shape, \"\\t\", layer.output_shape)"
   ]
  },
  {
   "cell_type": "code",
   "execution_count": 16,
   "metadata": {},
   "outputs": [
    {
     "name": "stdout",
     "output_type": "stream",
     "text": [
      "Camada 0 \t conv2d_1 \t\t (3, 3, 1, 32) \t (32,)\n",
      "Camada 1 \t conv2d_2 \t\t (3, 3, 32, 64) \t (64,)\n",
      "Camada 5 \t dense_1 \t\t (10816, 128) \t (128,)\n",
      "Camada 7 \t preds \t\t (128, 10) \t (10,)\n"
     ]
    }
   ],
   "source": [
    "# Verificando o arranjo espacial do modelo com o pesos\n",
    "# W.shape = matriz de pesos (quantidade de entradas, quantidade de saídas)\n",
    "# b.shape = matriz de viés(bias)\n",
    "for i, layer in enumerate(model.layers):\n",
    "    if len(layer.get_weights()) > 0:\n",
    "        W, b = layer.get_weights()\n",
    "        print(\"Camada\", i, \"\\t\", layer.name, \"\\t\\t\", W.shape, \"\\t\", b.shape)"
   ]
  },
  {
   "cell_type": "code",
   "execution_count": null,
   "metadata": {
    "collapsed": true
   },
   "outputs": [],
   "source": [
    "# Retorna a configuração do modelo DNN\n",
    "model.get_config()"
   ]
  },
  {
   "cell_type": "code",
   "execution_count": 17,
   "metadata": {},
   "outputs": [
    {
     "data": {
      "text/plain": [
       "[array([[[[ -5.33470139e-02,   2.06506252e-03,  -9.99308228e-02,\n",
       "            -1.43805742e-02,   6.86852038e-02,  -2.00163722e-02,\n",
       "             5.27406633e-02,  -4.87591773e-02,  -1.39927655e-01,\n",
       "             1.50325298e-02,  -2.82063335e-02,  -1.15852185e-01,\n",
       "             3.48525494e-02,  -1.18888184e-01,  -2.77731195e-02,\n",
       "             7.83561170e-02,  -1.22089416e-01,  -9.85101312e-02,\n",
       "             4.86952364e-02,  -4.94758561e-02,   5.74073344e-02,\n",
       "             5.61977923e-02,  -6.15941733e-02,   1.27524361e-01,\n",
       "            -6.57831579e-02,   7.87687302e-03,   4.97928113e-02,\n",
       "             1.06256232e-01,   4.15851623e-02,  -3.27175483e-02,\n",
       "             4.15064096e-02,   6.14957958e-02]],\n",
       " \n",
       "         [[ -6.57017305e-02,  -4.11095843e-02,   4.04197425e-02,\n",
       "             7.46682137e-02,   5.59585392e-02,   4.81165051e-02,\n",
       "             3.90807539e-02,  -6.43815100e-03,   9.90363061e-02,\n",
       "            -1.03070483e-01,   1.29061446e-01,  -1.18742265e-01,\n",
       "            -5.43336123e-02,   1.66917890e-02,   5.61963916e-02,\n",
       "             7.74727315e-02,  -9.22141001e-02,  -5.18485904e-03,\n",
       "            -5.62240481e-02,   1.22806802e-01,  -2.73259729e-02,\n",
       "            -1.11195959e-01,  -1.09179914e-02,   7.48699158e-02,\n",
       "            -3.71684134e-02,  -1.18957460e-03,   1.39603153e-01,\n",
       "             8.84436071e-03,   3.59700918e-02,  -7.52890706e-02,\n",
       "             4.77290154e-03,  -7.86991492e-02]],\n",
       " \n",
       "         [[ -1.40080184e-01,  -2.39752308e-02,   1.91452652e-02,\n",
       "             3.09317261e-02,  -1.37010187e-01,   1.41181037e-01,\n",
       "            -1.31093934e-01,   2.88362950e-02,  -1.16331078e-01,\n",
       "             6.51724637e-03,   1.02664307e-01,  -7.28392825e-02,\n",
       "            -1.12240195e-01,   9.02426243e-03,  -1.19336516e-01,\n",
       "            -6.34826198e-02,  -3.75375152e-04,   6.98750615e-02,\n",
       "            -4.13829163e-02,   1.09129399e-02,  -1.16554901e-01,\n",
       "            -6.75546527e-02,   2.90552080e-02,   2.56499350e-02,\n",
       "            -1.21458128e-01,   1.26204386e-01,   1.39787987e-01,\n",
       "             3.04091424e-02,  -3.10747623e-02,   9.48378593e-02,\n",
       "            -1.02721483e-01,  -5.92203662e-02]]],\n",
       " \n",
       " \n",
       "        [[[ -4.99194115e-02,   9.89505053e-02,  -1.01167887e-01,\n",
       "            -1.14030540e-01,   6.06256127e-02,   1.75160617e-02,\n",
       "             8.24235380e-02,   9.62867886e-02,  -1.07266009e-02,\n",
       "             4.02581692e-03,   7.20714927e-02,   8.97431374e-03,\n",
       "             1.34884343e-01,  -4.01728377e-02,  -5.10730371e-02,\n",
       "             1.38598755e-01,   8.95102024e-02,   6.23768717e-02,\n",
       "            -4.79044318e-02,   8.34372491e-02,  -9.98870730e-02,\n",
       "            -7.46990889e-02,   1.05345204e-01,  -1.17699347e-01,\n",
       "             2.65700519e-02,  -5.47343269e-02,  -6.06945008e-02,\n",
       "            -1.62180364e-02,  -7.70331845e-02,   1.15001604e-01,\n",
       "             8.65292698e-02,   7.27872550e-03]],\n",
       " \n",
       "         [[ -1.30082935e-01,   6.04342818e-02,  -1.15246519e-01,\n",
       "             7.06187487e-02,   4.87702191e-02,  -6.84780851e-02,\n",
       "             6.77005053e-02,   1.06524527e-02,   9.05693471e-02,\n",
       "             1.29519358e-01,   1.35774449e-01,  -1.35344416e-02,\n",
       "            -7.38612935e-02,  -5.11148572e-02,  -1.39055490e-01,\n",
       "            -4.45600972e-02,   9.12156850e-02,   5.54947555e-02,\n",
       "            -1.03614479e-01,   1.28160551e-01,   9.99912620e-04,\n",
       "             9.52045172e-02,   6.84611797e-02,   2.93647051e-02,\n",
       "            -8.27466249e-02,   8.57728571e-02,   1.20397940e-01,\n",
       "            -9.84900370e-02,   1.15178540e-01,   1.23823732e-02,\n",
       "            -9.85796750e-03,  -1.12794019e-01]],\n",
       " \n",
       "         [[  7.37100244e-02,  -1.17587924e-01,   1.13018408e-01,\n",
       "             2.16127038e-02,  -4.27546799e-02,   2.29617953e-02,\n",
       "            -5.20270988e-02,  -1.19761974e-01,   5.20324558e-02,\n",
       "            -1.18855990e-01,   1.00229234e-01,   1.20777294e-01,\n",
       "             4.83233184e-02,  -7.32713491e-02,   7.25876391e-02,\n",
       "             1.07616439e-01,  -1.58012211e-02,  -4.87780198e-02,\n",
       "             1.19746163e-01,   2.31601298e-02,  -3.10419574e-02,\n",
       "            -6.69234022e-02,   7.35881627e-02,  -1.18946508e-01,\n",
       "            -8.58097672e-02,  -2.66466364e-02,   6.33334816e-02,\n",
       "            -1.41116828e-01,   4.12720740e-02,   2.51248479e-02,\n",
       "             7.45184422e-02,   1.05966225e-01]]],\n",
       " \n",
       " \n",
       "        [[[  1.01314634e-02,  -1.39964223e-02,   1.38619408e-01,\n",
       "             6.55450970e-02,   3.96887809e-02,  -1.78957358e-02,\n",
       "             2.72885561e-02,  -5.09779528e-02,  -1.40281975e-01,\n",
       "             2.39021033e-02,  -5.35562634e-04,  -7.14074448e-02,\n",
       "            -2.31551901e-02,  -8.15785229e-02,   1.05350465e-01,\n",
       "            -1.19562306e-01,  -1.40802041e-01,   6.52879626e-02,\n",
       "             7.28105456e-02,   7.11660236e-02,  -6.80482909e-02,\n",
       "            -2.13162228e-02,  -8.87590200e-02,  -9.14668888e-02,\n",
       "            -1.58762932e-03,   8.93075913e-02,  -3.38879526e-02,\n",
       "             4.04684693e-02,  -3.94786522e-02,   1.32032707e-01,\n",
       "            -1.60689056e-02,   9.28411186e-02]],\n",
       " \n",
       "         [[  6.31341189e-02,  -4.83713374e-02,   1.18683293e-01,\n",
       "            -6.96152449e-02,  -1.09554999e-01,  -1.02751203e-01,\n",
       "            -4.70196009e-02,   4.27163243e-02,   6.50569499e-02,\n",
       "             5.25597036e-02,  -1.06667057e-01,  -6.50327578e-02,\n",
       "             5.57677895e-02,  -2.18105316e-03,   1.26390144e-01,\n",
       "            -6.67586774e-02,   5.48336506e-02,   4.28785682e-02,\n",
       "            -1.24470651e-01,   1.33148715e-01,   3.17694247e-03,\n",
       "            -9.18921679e-02,  -8.14513415e-02,   1.89833194e-02,\n",
       "             1.02336451e-01,   1.10358641e-01,   1.90585852e-03,\n",
       "            -1.02626562e-01,  -1.04160130e-01,  -8.99905115e-02,\n",
       "             1.06189072e-01,  -2.29727402e-02]],\n",
       " \n",
       "         [[  1.14698514e-01,   4.63567376e-02,   1.03472456e-01,\n",
       "            -1.18585907e-01,   8.72006714e-02,   9.91738439e-02,\n",
       "             5.66943437e-02,   1.32068440e-01,   6.50851130e-02,\n",
       "             4.03225422e-05,  -1.36016741e-01,   1.43774450e-02,\n",
       "             1.00963503e-01,   2.98067033e-02,   1.22230098e-01,\n",
       "             4.09168601e-02,   4.60325032e-02,   1.24330223e-02,\n",
       "             8.52700025e-02,  -7.29719177e-02,   6.84362352e-02,\n",
       "            -1.17239393e-01,  -3.63306701e-03,  -2.95958146e-02,\n",
       "             9.98974741e-02,   6.91780299e-02,  -4.89427745e-02,\n",
       "            -6.12820387e-02,  -1.86567754e-02,   9.21764821e-02,\n",
       "            -3.60138044e-02,   1.63246542e-02]]]], dtype=float32),\n",
       " array([ 0.,  0.,  0.,  0.,  0.,  0.,  0.,  0.,  0.,  0.,  0.,  0.,  0.,\n",
       "         0.,  0.,  0.,  0.,  0.,  0.,  0.,  0.,  0.,  0.,  0.,  0.,  0.,\n",
       "         0.,  0.,  0.,  0.,  0.,  0.], dtype=float32),\n",
       " array([[[[-0.05107808,  0.01289114, -0.06639874, ...,  0.05940338,\n",
       "            0.0464488 ,  0.04367014],\n",
       "          [-0.07345241, -0.02291568,  0.06134827, ..., -0.0448553 ,\n",
       "            0.04407016, -0.03142434],\n",
       "          [ 0.08275498, -0.0274488 , -0.07506108, ...,  0.01116258,\n",
       "           -0.02824786,  0.03583839],\n",
       "          ..., \n",
       "          [ 0.05016605,  0.06200773,  0.06027373, ..., -0.07226493,\n",
       "           -0.02833136, -0.05442218],\n",
       "          [-0.07024632,  0.03872863,  0.0175451 , ...,  0.02107447,\n",
       "           -0.01741501,  0.02574394],\n",
       "          [ 0.0364002 ,  0.04760958, -0.01158774, ...,  0.03099408,\n",
       "           -0.06553636, -0.01000903]],\n",
       " \n",
       "         [[-0.08169647,  0.0317569 ,  0.04593933, ...,  0.00905386,\n",
       "            0.01423103,  0.00958437],\n",
       "          [ 0.05778343, -0.06688583,  0.03912282, ...,  0.06172461,\n",
       "            0.02071524, -0.07904333],\n",
       "          [ 0.04133417, -0.02706015,  0.03005165, ..., -0.0735116 ,\n",
       "           -0.05939506,  0.01829225],\n",
       "          ..., \n",
       "          [-0.06916386, -0.05931244,  0.08224126, ..., -0.01108551,\n",
       "            0.00798474,  0.04076818],\n",
       "          [-0.04145452,  0.01421738, -0.0120397 , ..., -0.07615215,\n",
       "            0.04918704,  0.02362716],\n",
       "          [ 0.04600827, -0.04239164,  0.06574575, ..., -0.03022232,\n",
       "            0.05923762, -0.04178178]],\n",
       " \n",
       "         [[ 0.04123181, -0.07733248,  0.01277056, ...,  0.00391505,\n",
       "           -0.07938284,  0.05410447],\n",
       "          [ 0.01025673,  0.01545427,  0.03167275, ...,  0.00109065,\n",
       "           -0.06296685,  0.07255778],\n",
       "          [-0.01942134,  0.00506874, -0.03481519, ...,  0.02609345,\n",
       "            0.04427918, -0.04092767],\n",
       "          ..., \n",
       "          [ 0.0599579 , -0.04379257, -0.05301273, ...,  0.03539201,\n",
       "           -0.02918035, -0.0193331 ],\n",
       "          [-0.05611473, -0.04565406,  0.02725524, ...,  0.0650124 ,\n",
       "           -0.0722106 ,  0.04065138],\n",
       "          [ 0.08191083, -0.00973725,  0.01038128, ...,  0.07437537,\n",
       "            0.00085972, -0.03549423]]],\n",
       " \n",
       " \n",
       "        [[[ 0.08026809, -0.04271408,  0.07904769, ..., -0.02571007,\n",
       "            0.05940076,  0.07116897],\n",
       "          [ 0.04518262, -0.07819059,  0.00126622, ...,  0.0311386 ,\n",
       "            0.05861027,  0.02635214],\n",
       "          [-0.05639694, -0.00816166,  0.02304129, ..., -0.02573016,\n",
       "           -0.07287149, -0.00506306],\n",
       "          ..., \n",
       "          [ 0.07975665,  0.04936782,  0.05758587, ...,  0.05012245,\n",
       "           -0.06946872,  0.03012908],\n",
       "          [-0.05983885, -0.05126862, -0.01316062, ..., -0.04673189,\n",
       "           -0.04525286, -0.03695736],\n",
       "          [-0.06958872, -0.07674398,  0.06004769, ...,  0.04271533,\n",
       "           -0.06577229, -0.04211299]],\n",
       " \n",
       "         [[ 0.05438799,  0.08181877,  0.05787069, ...,  0.02258887,\n",
       "            0.07194064,  0.02450341],\n",
       "          [ 0.05847118, -0.05617398, -0.01598046, ..., -0.02499304,\n",
       "            0.05443636, -0.02809328],\n",
       "          [ 0.01364759, -0.02159522, -0.05568209, ...,  0.07986189,\n",
       "           -0.07938   , -0.05723651],\n",
       "          ..., \n",
       "          [-0.06548548, -0.03886294, -0.04232188, ...,  0.02146429,\n",
       "           -0.01046002,  0.04189243],\n",
       "          [-0.01011702,  0.04721535, -0.02484582, ..., -0.0048999 ,\n",
       "           -0.0265338 ,  0.02700194],\n",
       "          [-0.05618773,  0.06857354, -0.08040266, ..., -0.06927806,\n",
       "           -0.05714055,  0.06872662]],\n",
       " \n",
       "         [[-0.06799237,  0.05859599,  0.02190236, ..., -0.0757096 ,\n",
       "           -0.02941666,  0.00313834],\n",
       "          [ 0.0648568 ,  0.0044659 , -0.05606904, ...,  0.04039302,\n",
       "            0.03943413,  0.06702962],\n",
       "          [-0.04959708, -0.01073519, -0.04338865, ...,  0.03027973,\n",
       "           -0.03032567, -0.03141789],\n",
       "          ..., \n",
       "          [-0.0500773 ,  0.05413445, -0.0675244 , ...,  0.01300538,\n",
       "            0.02954724,  0.0305784 ],\n",
       "          [ 0.07846948, -0.01566652,  0.0136356 , ..., -0.00589484,\n",
       "            0.04309536, -0.02533895],\n",
       "          [ 0.04549805, -0.00414542,  0.06129291, ...,  0.03702434,\n",
       "           -0.06891688,  0.07946757]]],\n",
       " \n",
       " \n",
       "        [[[ 0.05025212,  0.02454332, -0.07666624, ...,  0.02262708,\n",
       "            0.00859708, -0.04490332],\n",
       "          [-0.06769103,  0.02986757, -0.03052217, ...,  0.0712956 ,\n",
       "            0.01411571,  0.00313541],\n",
       "          [ 0.07902304, -0.02228796, -0.0097568 , ..., -0.06166538,\n",
       "            0.00871494, -0.04393705],\n",
       "          ..., \n",
       "          [-0.03171526, -0.01644889,  0.02484882, ..., -0.07589646,\n",
       "            0.02406567,  0.0636794 ],\n",
       "          [-0.01740336,  0.08059663, -0.03787112, ...,  0.06214508,\n",
       "            0.07044033, -0.07089182],\n",
       "          [ 0.01329589,  0.06040267,  0.05712564, ...,  0.04003233,\n",
       "            0.02283605,  0.03545821]],\n",
       " \n",
       "         [[ 0.02623892, -0.05328455, -0.06719249, ...,  0.03795663,\n",
       "            0.00882445, -0.05882853],\n",
       "          [ 0.04458959, -0.04108163, -0.02014407, ...,  0.07254068,\n",
       "           -0.03155134,  0.01747505],\n",
       "          [-0.03050939, -0.04581712,  0.01260104, ..., -0.02353422,\n",
       "           -0.03859584, -0.01258004],\n",
       "          ..., \n",
       "          [ 0.00542754, -0.07621302,  0.03471021, ...,  0.02608774,\n",
       "           -0.00874221,  0.02068917],\n",
       "          [-0.03962245, -0.01067871, -0.03521329, ..., -0.06928329,\n",
       "            0.06968788, -0.07428037],\n",
       "          [ 0.0503386 ,  0.00169903,  0.01668515, ..., -0.00828459,\n",
       "           -0.00820673,  0.02217722]],\n",
       " \n",
       "         [[ 0.01489451,  0.02208974,  0.04052756, ..., -0.01394325,\n",
       "            0.01073363,  0.01463441],\n",
       "          [-0.0056797 ,  0.02428287,  0.00477868, ..., -0.04384917,\n",
       "           -0.02112279, -0.00930467],\n",
       "          [-0.02743798, -0.02354149,  0.05908046, ...,  0.08261297,\n",
       "            0.06002177, -0.02103285],\n",
       "          ..., \n",
       "          [ 0.07570771, -0.07883333,  0.08080745, ...,  0.00474938,\n",
       "            0.025832  ,  0.07573424],\n",
       "          [ 0.05232158,  0.02681144, -0.07541782, ...,  0.08135135,\n",
       "           -0.05279265, -0.06346095],\n",
       "          [-0.0513716 ,  0.07816155,  0.07347012, ...,  0.06332161,\n",
       "            0.02347648, -0.00188252]]]], dtype=float32),\n",
       " array([ 0.,  0.,  0.,  0.,  0.,  0.,  0.,  0.,  0.,  0.,  0.,  0.,  0.,\n",
       "         0.,  0.,  0.,  0.,  0.,  0.,  0.,  0.,  0.,  0.,  0.,  0.,  0.,\n",
       "         0.,  0.,  0.,  0.,  0.,  0.,  0.,  0.,  0.,  0.,  0.,  0.,  0.,\n",
       "         0.,  0.,  0.,  0.,  0.,  0.,  0.,  0.,  0.,  0.,  0.,  0.,  0.,\n",
       "         0.,  0.,  0.,  0.,  0.,  0.,  0.,  0.,  0.,  0.,  0.,  0.], dtype=float32),\n",
       " array([[-0.00311627,  0.00354471,  0.02265461, ..., -0.01421541,\n",
       "          0.00434368, -0.00261844],\n",
       "        [-0.01935503,  0.01220654,  0.00759433, ..., -0.01587496,\n",
       "          0.00604496,  0.01261065],\n",
       "        [ 0.00222651,  0.01345927,  0.0168961 , ..., -0.0210573 ,\n",
       "         -0.0018605 , -0.016015  ],\n",
       "        ..., \n",
       "        [-0.01600038, -0.00890863,  0.02222736, ..., -0.0069324 ,\n",
       "          0.00784517,  0.00445235],\n",
       "        [-0.00673764, -0.0028919 , -0.01087145, ...,  0.01070766,\n",
       "         -0.02168786, -0.02187173],\n",
       "        [ 0.01450815,  0.01640099, -0.02288272, ..., -0.02244023,\n",
       "          0.00156954,  0.01371048]], dtype=float32),\n",
       " array([ 0.,  0.,  0.,  0.,  0.,  0.,  0.,  0.,  0.,  0.,  0.,  0.,  0.,\n",
       "         0.,  0.,  0.,  0.,  0.,  0.,  0.,  0.,  0.,  0.,  0.,  0.,  0.,\n",
       "         0.,  0.,  0.,  0.,  0.,  0.,  0.,  0.,  0.,  0.,  0.,  0.,  0.,\n",
       "         0.,  0.,  0.,  0.,  0.,  0.,  0.,  0.,  0.,  0.,  0.,  0.,  0.,\n",
       "         0.,  0.,  0.,  0.,  0.,  0.,  0.,  0.,  0.,  0.,  0.,  0.,  0.,\n",
       "         0.,  0.,  0.,  0.,  0.,  0.,  0.,  0.,  0.,  0.,  0.,  0.,  0.,\n",
       "         0.,  0.,  0.,  0.,  0.,  0.,  0.,  0.,  0.,  0.,  0.,  0.,  0.,\n",
       "         0.,  0.,  0.,  0.,  0.,  0.,  0.,  0.,  0.,  0.,  0.,  0.,  0.,\n",
       "         0.,  0.,  0.,  0.,  0.,  0.,  0.,  0.,  0.,  0.,  0.,  0.,  0.,\n",
       "         0.,  0.,  0.,  0.,  0.,  0.,  0.,  0.,  0.,  0.,  0.], dtype=float32),\n",
       " array([[ 0.16414542, -0.15937449,  0.20237331, ..., -0.01182748,\n",
       "         -0.03158799, -0.14013027],\n",
       "        [ 0.08721267, -0.15481471, -0.11413924, ..., -0.07143617,\n",
       "          0.20835517,  0.18689109],\n",
       "        [-0.15714096, -0.08898893,  0.13169901, ..., -0.09646001,\n",
       "         -0.18380252, -0.1162049 ],\n",
       "        ..., \n",
       "        [-0.07117984, -0.0717773 ,  0.01308967, ..., -0.01367748,\n",
       "          0.1584083 ,  0.09698485],\n",
       "        [-0.10520698, -0.06196813,  0.14694269, ...,  0.07991333,\n",
       "         -0.05545674,  0.08914529],\n",
       "        [-0.07220444, -0.13803792, -0.01881365, ...,  0.05713423,\n",
       "          0.05767743,  0.03823043]], dtype=float32),\n",
       " array([ 0.,  0.,  0.,  0.,  0.,  0.,  0.,  0.,  0.,  0.], dtype=float32)]"
      ]
     },
     "execution_count": 17,
     "metadata": {},
     "output_type": "execute_result"
    }
   ],
   "source": [
    "# Verificando os pesos da DNN\n",
    "model.get_weights()"
   ]
  },
  {
   "cell_type": "code",
   "execution_count": 22,
   "metadata": {},
   "outputs": [
    {
     "name": "stdout",
     "output_type": "stream",
     "text": [
      "Loading existing weights\n"
     ]
    }
   ],
   "source": [
    "# Treinando o modelo DNN para 01 época\n",
    "# Função FIT: realiza o treinamento até uma quantidade de épocas determinada.\n",
    "# parametro validation_data: Dados para avaliar a perda do gradiente ao final de cada época\n",
    "# parametro batch_size: numero de amostras para atualizar a perda do gradientes\n",
    "# Paramentro verbose : 0 = silent, 1 = verbose, 2 = one log line per epoch.\n",
    "# %time = medindo tempo do treino\n",
    "\n",
    "# monitor para ouvir e parar o treinamento caso o aprendizado comece a cair\n",
    "monitor = EarlyStopping(monitor='val_loss', min_delta=1e-3, patience=5, verbose=1, mode='auto')\n",
    "\n",
    "WEIGHTS_FNAME = 'mnist_cnn_weights.hdf'\n",
    "if True and os.path.exists(WEIGHTS_FNAME):\n",
    "    # Just change the True to false to force re-training\n",
    "    print('Loading existing weights')\n",
    "    model.load_weights(WEIGHTS_FNAME)\n",
    "else:\n",
    "    # treinando a DNN para 1 épocas\n",
    "    #callbacks=[monitor]\n",
    "    %time history = model.fit(X_train, y_train, validation_data=(X_test, y_test),epochs=12, batch_size=128, verbose=1)\n",
    "    model.save_weights(WEIGHTS_FNAME)\n",
    "    "
   ]
  },
  {
   "cell_type": "code",
   "execution_count": 23,
   "metadata": {},
   "outputs": [
    {
     "name": "stdout",
     "output_type": "stream",
     "text": [
      "Metricas do Modelo: ['loss', 'acc']\n",
      "Erro de: 0.88%\n",
      "Precisão de: 99.12%\n"
     ]
    }
   ],
   "source": [
    "# Avaliando o modelo DNN\n",
    "print('Metricas do Modelo: {}'.format(model.metrics_names))\n",
    "metricas = model.evaluate(X_test, y_test, verbose=0)\n",
    "print(\"Erro de: %.2f%%\" % (100-metricas[1]*100))\n",
    "print(\"Precisão de: %.2f%%\" % (metricas[1]*100))"
   ]
  },
  {
   "cell_type": "code",
   "execution_count": 24,
   "metadata": {},
   "outputs": [
    {
     "ename": "AttributeError",
     "evalue": "'NoneType' object has no attribute 'history'",
     "output_type": "error",
     "traceback": [
      "\u001b[1;31m---------------------------------------------------------------------------\u001b[0m",
      "\u001b[1;31mAttributeError\u001b[0m                            Traceback (most recent call last)",
      "\u001b[1;32m<ipython-input-24-468829a17784>\u001b[0m in \u001b[0;36m<module>\u001b[1;34m()\u001b[0m\n\u001b[0;32m      1\u001b[0m \u001b[1;31m# Historico do treino\u001b[0m\u001b[1;33m\u001b[0m\u001b[1;33m\u001b[0m\u001b[0m\n\u001b[1;32m----> 2\u001b[1;33m \u001b[0mprint\u001b[0m\u001b[1;33m(\u001b[0m\u001b[0mhistory\u001b[0m\u001b[1;33m.\u001b[0m\u001b[0mhistory\u001b[0m\u001b[1;33m.\u001b[0m\u001b[0mkeys\u001b[0m\u001b[1;33m(\u001b[0m\u001b[1;33m)\u001b[0m\u001b[1;33m)\u001b[0m\u001b[1;33m\u001b[0m\u001b[0m\n\u001b[0m",
      "\u001b[1;31mAttributeError\u001b[0m: 'NoneType' object has no attribute 'history'"
     ]
    }
   ],
   "source": [
    "# Historico do treino\n",
    "print(history.history.keys())"
   ]
  },
  {
   "cell_type": "code",
   "execution_count": 21,
   "metadata": {},
   "outputs": [
    {
     "ename": "NameError",
     "evalue": "name 'history' is not defined",
     "output_type": "error",
     "traceback": [
      "\u001b[1;31m---------------------------------------------------------------------------\u001b[0m",
      "\u001b[1;31mNameError\u001b[0m                                 Traceback (most recent call last)",
      "\u001b[1;32m<ipython-input-21-bbb4e417c29a>\u001b[0m in \u001b[0;36m<module>\u001b[1;34m()\u001b[0m\n\u001b[0;32m      1\u001b[0m \u001b[1;31m# Historio de precição\u001b[0m\u001b[1;33m\u001b[0m\u001b[1;33m\u001b[0m\u001b[0m\n\u001b[1;32m----> 2\u001b[1;33m \u001b[0macc\u001b[0m \u001b[1;33m=\u001b[0m \u001b[0mhistory\u001b[0m\u001b[1;33m.\u001b[0m\u001b[0mhistory\u001b[0m\u001b[1;33m[\u001b[0m\u001b[1;34m'acc'\u001b[0m\u001b[1;33m]\u001b[0m\u001b[1;33m\u001b[0m\u001b[0m\n\u001b[0m\u001b[0;32m      3\u001b[0m \u001b[0mval_acc\u001b[0m \u001b[1;33m=\u001b[0m \u001b[0mhistory\u001b[0m\u001b[1;33m.\u001b[0m\u001b[0mhistory\u001b[0m\u001b[1;33m[\u001b[0m\u001b[1;34m'val_acc'\u001b[0m\u001b[1;33m]\u001b[0m\u001b[1;33m\u001b[0m\u001b[0m\n\u001b[0;32m      4\u001b[0m \u001b[0mloss\u001b[0m \u001b[1;33m=\u001b[0m \u001b[0mhistory\u001b[0m\u001b[1;33m.\u001b[0m\u001b[0mhistory\u001b[0m\u001b[1;33m[\u001b[0m\u001b[1;34m'loss'\u001b[0m\u001b[1;33m]\u001b[0m\u001b[1;33m\u001b[0m\u001b[0m\n\u001b[0;32m      5\u001b[0m \u001b[0mval_loss\u001b[0m \u001b[1;33m=\u001b[0m \u001b[0mhistory\u001b[0m\u001b[1;33m.\u001b[0m\u001b[0mhistory\u001b[0m\u001b[1;33m[\u001b[0m\u001b[1;34m'val_loss'\u001b[0m\u001b[1;33m]\u001b[0m\u001b[1;33m\u001b[0m\u001b[0m\n",
      "\u001b[1;31mNameError\u001b[0m: name 'history' is not defined"
     ]
    }
   ],
   "source": [
    "# Historio de precição\n",
    "acc = history.history['acc']\n",
    "val_acc = history.history['val_acc']\n",
    "loss = history.history['loss']\n",
    "val_loss = history.history['val_loss']\n",
    "\n",
    "epochs = range(len(acc))\n",
    "\n",
    "plt.plot(epochs, acc, 'bo')\n",
    "plt.plot(epochs, val_acc, 'b')\n",
    "plt.legend(['train', 'test'], loc='upper left')\n",
    "plt.title('Treino e validação: precisão')\n",
    "\n",
    "plt.figure()\n",
    "\n",
    "plt.plot(epochs, loss, 'bo')\n",
    "plt.plot(epochs, val_loss, 'b')\n",
    "plt.legend(['train', 'test'], loc='upper right')\n",
    "plt.title('Treino e validação: perda')\n",
    "\n",
    "plt.show()"
   ]
  },
  {
   "cell_type": "code",
   "execution_count": 25,
   "metadata": {},
   "outputs": [
    {
     "name": "stdout",
     "output_type": "stream",
     "text": [
      " 9984/10000 [============================>.] - ETA: 0s\n",
      "Quantidade de imagens analisadas:  (10000,)\n"
     ]
    }
   ],
   "source": [
    "# utilizando o modelo para predição.\n",
    "predicted = model.predict(X_test,batch_size=32, verbose=1).argmax(-1)\n",
    "print('\\nQuantidade de imagens analisadas: ', predicted.shape)"
   ]
  },
  {
   "cell_type": "code",
   "execution_count": 26,
   "metadata": {},
   "outputs": [
    {
     "name": "stdout",
     "output_type": "stream",
     "text": [
      "[[  2.08310365e-08   7.54788459e-07   9.99999166e-01   6.84412527e-11\n",
      "    1.68090875e-10   5.94273234e-14   9.06836828e-09   4.27016018e-12\n",
      "    5.53198265e-10   9.74597718e-15]\n",
      " [  1.11110424e-07   9.99992132e-01   3.28792652e-07   1.39620635e-08\n",
      "    3.54012377e-06   4.64357157e-08   9.23308846e-07   2.00601357e-06\n",
      "    8.39061101e-07   2.35873436e-08]\n",
      " [  9.99991298e-01   1.60992144e-08   5.98013798e-07   4.15253698e-09\n",
      "    6.31989749e-08   5.63449065e-09   4.97891460e-06   2.08314304e-06\n",
      "    9.41685272e-08   7.99112968e-07]\n",
      " [  9.82026016e-09   2.52052445e-07   1.74167070e-09   1.12375609e-10\n",
      "    9.99986410e-01   4.19853735e-11   5.99666450e-09   6.25152907e-08\n",
      "    5.54550050e-09   1.31996112e-05]]\n",
      "[[ 0.  0.  1.  0.  0.  0.  0.  0.  0.  0.]\n",
      " [ 0.  1.  0.  0.  0.  0.  0.  0.  0.  0.]\n",
      " [ 1.  0.  0.  0.  0.  0.  0.  0.  0.  0.]\n",
      " [ 0.  0.  0.  0.  1.  0.  0.  0.  0.  0.]]\n"
     ]
    }
   ],
   "source": [
    "print(model.predict(X_test[1:5]))\n",
    "print(y_test[1:5])"
   ]
  },
  {
   "cell_type": "code",
   "execution_count": 81,
   "metadata": {},
   "outputs": [
    {
     "name": "stdout",
     "output_type": "stream",
     "text": [
      "(1, 28, 28, 1)\n",
      "1/1 [==============================] - 0s\n",
      "[7]\n",
      "[[ 0.  0.  0.  0.  0.  0.  0.  1.  0.  0.]]\n"
     ]
    }
   ],
   "source": [
    "test_image = X_test[0:1]\n",
    "print (test_image.shape)\n",
    "\n",
    "#print(model.predict(test_image))\n",
    "print(model.predict_classes(test_image))\n",
    "print(y_test[0:1])"
   ]
  },
  {
   "cell_type": "code",
   "execution_count": 90,
   "metadata": {},
   "outputs": [
    {
     "name": "stdout",
     "output_type": "stream",
     "text": [
      "[[  2.61e-10   5.05e-09   1.62e-08 ...,   1.00e+00   1.88e-09   1.57e-07]\n",
      " [  2.08e-08   7.55e-07   1.00e+00 ...,   4.27e-12   5.53e-10   9.75e-15]\n",
      " [  1.11e-07   1.00e+00   3.29e-07 ...,   2.01e-06   8.39e-07   2.36e-08]\n",
      " ..., \n",
      " [  6.67e-13   4.77e-08   3.51e-13 ...,   2.32e-08   4.85e-09   6.00e-08]\n",
      " [  1.04e-08   3.94e-10   2.28e-11 ...,   3.65e-10   3.12e-05   7.19e-10]\n",
      " [  9.05e-09   7.94e-10   5.49e-08 ...,   3.61e-12   1.01e-08   2.07e-10]]\n",
      "[7 2 1 ..., 4 5 6]\n"
     ]
    }
   ],
   "source": [
    "Y_pred = model.predict(X_test)\n",
    "print(Y_pred)\n",
    "y_pred = np.argmax(Y_pred, axis=1)\n",
    "print(y_pred)"
   ]
  },
  {
   "cell_type": "code",
   "execution_count": 91,
   "metadata": {},
   "outputs": [
    {
     "name": "stdout",
     "output_type": "stream",
     "text": [
      "             precision    recall  f1-score   support\n",
      "\n",
      "          0       0.99      1.00      0.99       980\n",
      "          1       0.99      1.00      1.00      1135\n",
      "          2       0.99      0.99      0.99      1032\n",
      "          3       0.99      1.00      0.99      1010\n",
      "          4       1.00      0.99      0.99       982\n",
      "          5       0.99      0.99      0.99       892\n",
      "          6       0.99      0.99      0.99       958\n",
      "          7       0.99      0.99      0.99      1028\n",
      "          8       0.99      0.99      0.99       974\n",
      "          9       0.99      0.98      0.99      1009\n",
      "\n",
      "avg / total       0.99      0.99      0.99     10000\n",
      "\n"
     ]
    }
   ],
   "source": [
    "print(classification_report(np.argmax(y_test,axis=1), y_pred,target_names=classes))"
   ]
  },
  {
   "cell_type": "code",
   "execution_count": 27,
   "metadata": {},
   "outputs": [
    {
     "data": {
      "image/png": "[encoded data removed]",
      "text/plain": [
       "<matplotlib.figure.Figure at 0x27a47f87128>"
      ]
     },
     "metadata": {},
     "output_type": "display_data"
    }
   ],
   "source": [
    "# Visualizando e comparando a predição com a base original.\n",
    "amosta = 10\n",
    "plt.figure(figsize=(16,8))\n",
    "for i in range(amosta):\n",
    "    plt.subplot(1, amosta, i+1)\n",
    "    # Seleciona uma imagem aleatoria\n",
    "    idx_img_aleatoria = random.randint(0, len(X_train[0]))\n",
    "    img_aleatoria = X_test[idx_img_aleatoria]\n",
    "    \n",
    "    # Visualiza a imagem escolhida aleatoriamente\n",
    "    plt.imshow(img_aleatoria.reshape(28,28), interpolation='nearest')\n",
    "    \n",
    "    # Visualiza o label\n",
    "    plt.text(0, 0, predicted[idx_img_aleatoria], color='white', \n",
    "             bbox=dict(facecolor='black', alpha=1))\n",
    "    plt.axis('off')"
   ]
  },
  {
   "cell_type": "code",
   "execution_count": 28,
   "metadata": {
    "collapsed": true
   },
   "outputs": [],
   "source": [
    "# Função para matriz de confusão da predição\n",
    "# Referência: http://scikit-learn.org/stable/auto_examples/model_selection/plot_confusion_matrix.html\n",
    "import matplotlib.pyplot as plt\n",
    "from mpl_toolkits.axes_grid1 import make_axes_locatable\n",
    "\n",
    "def plot_confusion_matrix(cm, classes,\n",
    "                          normalize=False,\n",
    "                          title='Matriz de confusão',\n",
    "                          cmap=plt.cm.Blues):\n",
    "    \"\"\"\n",
    "    This function prints and plots the confusion matrix.\n",
    "    Normalization can be applied by setting `normalize=True`.\n",
    "    \"\"\"\n",
    "    if normalize:\n",
    "        cm = cm.astype('float') / cm.sum(axis=1)[:, np.newaxis]\n",
    "\n",
    "    im = plt.imshow(cm, interpolation='nearest', cmap=cmap)\n",
    "    plt.title(title)\n",
    "    plt.colorbar(im, fraction=0.046, pad=0.04)\n",
    "    \n",
    "    #plt.colorbar()\n",
    "    tick_marks = np.arange(len(classes))\n",
    "    plt.xticks(tick_marks, classes)\n",
    "    plt.yticks(tick_marks, classes)\n",
    "\n",
    "    fmt = '.2f' if normalize else 'd'\n",
    "    thresh = cm.max() / 2.\n",
    "    for i, j in itertools.product(range(cm.shape[0]), range(cm.shape[1])):\n",
    "        plt.text(j, i, format(cm[i, j], fmt),\n",
    "                 horizontalalignment=\"center\",\n",
    "                 color=\"white\" if cm[i, j] > thresh else \"black\")\n",
    "\n",
    "    plt.tight_layout()\n",
    "    plt.ylabel('Base de teste')\n",
    "    plt.xlabel('Predições')"
   ]
  },
  {
   "cell_type": "code",
   "execution_count": 29,
   "metadata": {},
   "outputs": [
    {
     "name": "stdout",
     "output_type": "stream",
     "text": [
      "Verificando formato dos dados da predição: (10000,)\n",
      "Verificando formato dos dados de testes: (10000, 10)\n"
     ]
    },
    {
     "data": {
      "image/png": "[encoded data removed]",
      "text/plain": [
       "<matplotlib.figure.Figure at 0x27a4c789f28>"
      ]
     },
     "metadata": {},
     "output_type": "display_data"
    },
    {
     "data": {
      "image/png": "[encoded data removed]",
      "text/plain": [
       "<matplotlib.figure.Figure at 0x27a47f9c080>"
      ]
     },
     "metadata": {},
     "output_type": "display_data"
    }
   ],
   "source": [
    "# Visualizando matriz de confusão da predição\n",
    "\n",
    "# Precisa ter o mesmo formato\n",
    "print('Verificando formato dos dados da predição: {}'.format(predicted.shape))\n",
    "print('Verificando formato dos dados de testes: {}'.format(y_test.shape))\n",
    "\n",
    "#print(confusion_matrix(np.argmax(y_test,axis=1), predicted))\n",
    "\n",
    "cnf_matrix = confusion_matrix(np.argmax(y_test,axis=1), predicted)\n",
    "np.set_printoptions(precision=2)\n",
    "\n",
    "# Visualizando a matriz de confusão sem normalização.\n",
    "# mosta a quantidade de imagens classificadas para cada label\n",
    "plt.figure(figsize=(7,7))\n",
    "plot_confusion_matrix(cnf_matrix, classes=classes,\n",
    "                      title='Matriz de confusão, sem normalização')\n",
    "\n",
    "# Visualizando a matriz de confusão com normalização.\n",
    "# mosta a precisão para cada label classificado\n",
    "plt.figure(figsize=(7,7))\n",
    "plot_confusion_matrix(cnf_matrix, classes=classes, normalize=True,\n",
    "                      title='Matriz de confusão, com normalização')\n",
    "\n",
    "plt.show()"
   ]
  },
  {
   "cell_type": "code",
   "execution_count": 30,
   "metadata": {},
   "outputs": [
    {
     "data": {
      "text/plain": [
       "<matplotlib.image.AxesImage at 0x27a4b5b5630>"
      ]
     },
     "execution_count": 30,
     "metadata": {},
     "output_type": "execute_result"
    },
    {
     "data": {
      "image/png": "[encoded data removed]",
      "text/plain": [
       "<matplotlib.figure.Figure at 0x27a4c771a58>"
      ]
     },
     "metadata": {},
     "output_type": "display_data"
    }
   ],
   "source": [
    "# Visualizando o mapa de calor\n",
    "\n",
    "# Seleciona uma imagem aleatoria\n",
    "idx_img_aleatoria = random.randint(0, X_test.shape[0])\n",
    "img_aleatoria = X_test_orig[idx_img_aleatoria]\n",
    "\n",
    "input_img_data = X_test[idx_img_aleatoria].reshape(28,28)\n",
    "plt.figure(figsize=(7,7))\n",
    "plt.imshow(input_img_data, cmap=\"hot\")"
   ]
  },
  {
   "cell_type": "code",
   "execution_count": 31,
   "metadata": {},
   "outputs": [
    {
     "name": "stdout",
     "output_type": "stream",
     "text": [
      "Input image shape: (1, 28, 28)\n"
     ]
    }
   ],
   "source": [
    "input_img_data = np.expand_dims(input_img_data, axis=0)\n",
    "print('Input image shape:', input_img_data.shape)"
   ]
  },
  {
   "cell_type": "code",
   "execution_count": 32,
   "metadata": {},
   "outputs": [
    {
     "name": "stdout",
     "output_type": "stream",
     "text": [
      "_________________________________________________________________\n",
      "Layer (type)                 Output Shape              Param #   \n",
      "=================================================================\n",
      "conv2d_1 (Conv2D)            (None, 28, 28, 32)        320       \n",
      "_________________________________________________________________\n",
      "conv2d_2 (Conv2D)            (None, 26, 26, 64)        18496     \n",
      "_________________________________________________________________\n",
      "max_pooling2d_1 (MaxPooling2 (None, 13, 13, 64)        0         \n",
      "_________________________________________________________________\n",
      "dropout_1 (Dropout)          (None, 13, 13, 64)        0         \n",
      "_________________________________________________________________\n",
      "flatten_1 (Flatten)          (None, 10816)             0         \n",
      "_________________________________________________________________\n",
      "dense_1 (Dense)              (None, 128)               1384576   \n",
      "_________________________________________________________________\n",
      "dropout_2 (Dropout)          (None, 128)               0         \n",
      "_________________________________________________________________\n",
      "preds (Dense)                (None, 10)                1290      \n",
      "=================================================================\n",
      "Total params: 1,404,682\n",
      "Trainable params: 1,404,682\n",
      "Non-trainable params: 0\n",
      "_________________________________________________________________\n"
     ]
    }
   ],
   "source": [
    "model.summary()"
   ]
  },
  {
   "cell_type": "code",
   "execution_count": 33,
   "metadata": {},
   "outputs": [
    {
     "name": "stdout",
     "output_type": "stream",
     "text": [
      "conv2d_1\n",
      "conv2d_2\n",
      "max_pooling2d_1\n",
      "dropout_1\n",
      "flatten_1\n",
      "dense_1\n",
      "dropout_2\n",
      "preds\n"
     ]
    }
   ],
   "source": [
    "# Listando as camadas da rede\n",
    "from collections import OrderedDict\n",
    "layer_dict = OrderedDict()\n",
    "for layer in model.layers[0:]:\n",
    "    layer_dict[layer.name] = layer\n",
    "    print(layer.name)"
   ]
  },
  {
   "cell_type": "code",
   "execution_count": 46,
   "metadata": {
    "collapsed": true
   },
   "outputs": [],
   "source": [
    "# Buscando as ativações da camada de convolucao\n",
    "\n",
    "def get_activations(model, layer, input_img_data):\n",
    "    activations_f = K.function([model.layers[0].input, K.learning_phase()], [layer.output,])\n",
    "    activations = activations_f((input_img_data, False))\n",
    "    return activations"
   ]
  },
  {
   "cell_type": "code",
   "execution_count": 47,
   "metadata": {},
   "outputs": [
    {
     "name": "stdout",
     "output_type": "stream",
     "text": [
      "(28, 28, 1)\n",
      "(1, 28, 28, 1)\n",
      "(1, 28, 28, 1)\n"
     ]
    }
   ],
   "source": [
    "# Verificando o shape\n",
    "\n",
    "img_rows, img_cols = 28, 28\n",
    "if K.image_data_format() == 'channels_first':\n",
    "    shape = (1, img_rows, img_cols)\n",
    "else:  # channel_last\n",
    "    shape = (img_rows, img_cols, 1)\n",
    "\n",
    "print(shape)\n",
    "print(input_img_data.shape)\n",
    "input_img_data = input_img_data.reshape((input_img_data.shape[0],) + shape).astype('float32')\n",
    "print(input_img_data.shape)"
   ]
  },
  {
   "cell_type": "code",
   "execution_count": 48,
   "metadata": {
    "collapsed": true
   },
   "outputs": [],
   "source": [
    "# Pegando as ativações\n",
    "layer_name = 'conv2d_2'\n",
    "layer = layer_dict[layer_name]\n",
    "activations = get_activations(model, layer, input_img_data)"
   ]
  },
  {
   "cell_type": "code",
   "execution_count": 61,
   "metadata": {},
   "outputs": [
    {
     "name": "stdout",
     "output_type": "stream",
     "text": [
      "1\n",
      "(1, 1, 26, 26, 64)\n",
      "(26, 26, 64)\n"
     ]
    }
   ],
   "source": [
    "# Visualizando o shape da primeira ativação\n",
    "print(len(activations))\n",
    "print(np.shape(activations)) # (1,1,largura,altura,nucleos) = tensorflow\n",
    "                             # (1,1,nucloes,largura,altura) = theano\n",
    "\n",
    "activation = activations[0][0]\n",
    "print(activation.shape)      # (1,largura,altura,nucleos) = tensorflow\n",
    "                             # (1,nucloes,largura,altura) = theano\n"
   ]
  },
  {
   "cell_type": "code",
   "execution_count": 62,
   "metadata": {},
   "outputs": [
    {
     "name": "stdout",
     "output_type": "stream",
     "text": [
      "Tensorflow:  (26, 26, 64)\n"
     ]
    }
   ],
   "source": [
    "if K.image_dim_ordering() =='th':\n",
    "    activation = np.rollaxis((np.rollaxis(activation,2,0)),2,0)\n",
    "    print('Theano: ',activation.shape)\n",
    "print('Tensorflow: ',activation.shape)"
   ]
  },
  {
   "cell_type": "code",
   "execution_count": 76,
   "metadata": {},
   "outputs": [
    {
     "data": {
      "text/plain": [
       "<matplotlib.image.AxesImage at 0x27a4b423c88>"
      ]
     },
     "execution_count": 76,
     "metadata": {},
     "output_type": "execute_result"
    },
    {
     "data": {
      "image/png": "[encoded data removed]",
      "text/plain": [
       "<matplotlib.figure.Figure at 0x27a4c1f79b0>"
      ]
     },
     "metadata": {},
     "output_type": "display_data"
    }
   ],
   "source": [
    "fig = plt.figure(figsize=(6,6))\n",
    "plt.imshow(activation[:,:,0], cmap='jet')"
   ]
  },
  {
   "cell_type": "code",
   "execution_count": 54,
   "metadata": {},
   "outputs": [
    {
     "name": "stdout",
     "output_type": "stream",
     "text": [
      "Quantidade de núcleos na camada:  64\n"
     ]
    }
   ],
   "source": [
    "# Quantidade de núcleos\n",
    "print('Quantidade de núcleos na camada: ',layer.filters)"
   ]
  },
  {
   "cell_type": "code",
   "execution_count": 106,
   "metadata": {},
   "outputs": [
    {
     "name": "stdout",
     "output_type": "stream",
     "text": [
      "Quantidade de núcleos na imagem:  64\n"
     ]
    },
    {
     "data": {
      "image/png": "[encoded data removed]",
      "text/plain": [
       "<matplotlib.figure.Figure at 0x27a481eccc0>"
      ]
     },
     "metadata": {},
     "output_type": "display_data"
    }
   ],
   "source": [
    "# Visualizando as ativações da imagem através das camadas convoluídas\n",
    "\n",
    "activated_img = activation.shape[2]\n",
    "print(\"Quantidade de núcleos na imagem: \",activated_img)\n",
    "\n",
    "# Para visualizar todos os núcleos usar = int(np.sqrt(layer.filters)) # raiz 64 núcleos, gera plot 8 x 8\n",
    "# Visualizando apenas todos núcleos\n",
    "fig=plt.figure(figsize=(16,16))\n",
    "plt.title(\"núcleos-layer-{}\".format(layer))\n",
    "subplot_num=int(np.ceil(np.sqrt(activated_img)))\n",
    "\n",
    "for i in range(int(activated_img)):\n",
    "    ax = fig.add_subplot(subplot_num, subplot_num, i+1)\n",
    "\n",
    "    # Algums mapas de cor: Paired, CMRmap_r, Accent, nipy_spectral, gnuplot, gnuplot2, hot_r, jet, ocean_r\n",
    "    #ax.imshow(output_image[0,:,:,i],interpolation='nearest' ) #to see the first filter\n",
    "    ax.imshow(activation[:,:,i],cmap='gray')\n",
    "    plt.xticks([])\n",
    "    plt.yticks([])\n",
    "    plt.tight_layout()\n",
    "plt.show()\n",
    "# para salvar os nucloes em arquivo\n",
    "# fig.savefig(\"nucloes-layer-{}\".format(model.layers[0]) + '.jpg')"
   ]
  },
  {
   "cell_type": "code",
   "execution_count": 56,
   "metadata": {
    "collapsed": true
   },
   "outputs": [],
   "source": [
    "from scipy.misc import imsave\n",
    "\n",
    "# util function to convert a tensor into a valid image\n",
    "def deprocess_image(x):\n",
    "    # normalize tensor: center on 0., ensure std is 0.1\n",
    "    x -= x.mean()\n",
    "    x /= (x.std() + 1e-5)\n",
    "    x *= 0.1\n",
    "\n",
    "    # clip to [0, 1]\n",
    "    x += 0.5\n",
    "    x = np.clip(x, 0, 1)\n",
    "\n",
    "    # convert to RGB array\n",
    "    x *= 255\n",
    "    x = x.transpose((1, 2, 0))\n",
    "    x = np.clip(x, 0, 255).astype('uint8')\n",
    "    return x\n"
   ]
  },
  {
   "cell_type": "code",
   "execution_count": 57,
   "metadata": {
    "collapsed": true
   },
   "outputs": [],
   "source": [
    "# we start from a gray image with some noise\n",
    "input_img_data = np.random.random((1, 3, 28, 28)) * 20 + 128."
   ]
  },
  {
   "cell_type": "code",
   "execution_count": 58,
   "metadata": {},
   "outputs": [
    {
     "data": {
      "text/plain": [
       "<matplotlib.image.AxesImage at 0x23ce080a320>"
      ]
     },
     "execution_count": 58,
     "metadata": {},
     "output_type": "execute_result"
    },
    {
     "data": {
      "image/png": "[encoded data removed]",
      "text/plain": [
       "<matplotlib.figure.Figure at 0x23ce0cfc828>"
      ]
     },
     "metadata": {},
     "output_type": "display_data"
    }
   ],
   "source": [
    "\n",
    "img = input_img_data[0]\n",
    "img = deprocess_image(img)\n",
    "# Mostrar a imagem pela média\n",
    "plt.imshow(img)\n",
    "#imsave('%s_filter_%d.png' % (layer_name, filter_index), img)"
   ]
  },
  {
   "cell_type": "code",
   "execution_count": null,
   "metadata": {
    "collapsed": true
   },
   "outputs": [],
   "source": [
    "# proximo passo é aletar a ativação da camada de relu para softmax, \n",
    "# para poder visualizar as caracteristas linearmente separáveis do núcleo"
   ]
  },
  {
   "cell_type": "code",
   "execution_count": 92,
   "metadata": {},
   "outputs": [
    {
     "data": {
      "image/png": "[encoded data removed]",
      "text/plain": [
       "<matplotlib.figure.Figure at 0x23ce0b9d4a8>"
      ]
     },
     "metadata": {},
     "output_type": "display_data"
    }
   ],
   "source": [
    "camada = model.layers[0] # conv2d_2\n",
    "pesos = camada.get_weights()[0][:,:,0,:]\n",
    "for i in range(1,26):\n",
    "    plt.subplot(5,5,i)\n",
    "    plt.imshow(pesos[:,:,i],interpolation=\"nearest\",cmap=\"gray\")\n",
    "plt.show()"
   ]
  },
  {
   "cell_type": "code",
   "execution_count": 92,
   "metadata": {},
   "outputs": [
    {
     "name": "stdout",
     "output_type": "stream",
     "text": [
      "Saved model to disk\n"
     ]
    }
   ],
   "source": [
    "\n",
    "print(\"Salvando o modelo...\")\n",
    "# serialize model to JSON\n",
    "model_json = model.to_json()\n",
    "with open(\"model.json\", \"w\") as json_file:\n",
    "    json_file.write(model_json)\n",
    "# serialize weights to HDF5\n",
    "model.save_weights(\"model.h5\")\n",
    "print(\"Modelo salvo em arquivo com sucesso!\")"
   ]
  },
  {
   "cell_type": "code",
   "execution_count": 93,
   "metadata": {},
   "outputs": [
    {
     "name": "stdout",
     "output_type": "stream",
     "text": [
      "Loaded model from disk\n"
     ]
    }
   ],
   "source": [
    "# Lendo o modelo salvo em arquivo\n",
    "print(\"Carregando o modelo...\")\n",
    "json_file = open('model.json', 'r')\n",
    "loaded_model_json = json_file.read()\n",
    "json_file.close()\n",
    "loaded_model = model_from_json(loaded_model_json)\n",
    "# load weights into new model\n",
    "loaded_model.load_weights(\"model.h5\")\n",
    "print(\"Carregamento completo!\")\n",
    "\n",
    "model.save('model.hdf5')\n",
    "loaded_model=load_model('model.hdf5')"
   ]
  },
  {
   "cell_type": "code",
   "execution_count": null,
   "metadata": {
    "collapsed": true
   },
   "outputs": [],
   "source": [
    "# finish"
   ]
  }
 ],
 "metadata": {
  "kernelspec": {
   "display_name": "Python 3",
   "language": "python",
   "name": "python3"
  },
  "language_info": {
   "codemirror_mode": {
    "name": "ipython",
    "version": 3
   },
   "file_extension": ".py",
   "mimetype": "text/x-python",
   "name": "python",
   "nbconvert_exporter": "python",
   "pygments_lexer": "ipython3",
   "version": "3.6.2"
  }
 },
 "nbformat": 4,
 "nbformat_minor": 2
}
